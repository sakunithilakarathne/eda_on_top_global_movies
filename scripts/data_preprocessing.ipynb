{
 "cells": [
  {
   "cell_type": "code",
   "execution_count": 1,
   "id": "f15c1eb8-29ee-46f8-a444-5ef697ee4b29",
   "metadata": {},
   "outputs": [],
   "source": [
    "import pandas as pd\n",
    "import numpy as np"
   ]
  },
  {
   "cell_type": "code",
   "execution_count": 2,
   "id": "d1f4a64e-514d-4ded-aa98-694b15098f44",
   "metadata": {},
   "outputs": [],
   "source": [
    "dataset = pd.read_csv(\"completed_movie_dataset.csv\")"
   ]
  },
  {
   "cell_type": "code",
   "execution_count": 3,
   "id": "32cd0d65-880f-4524-bba1-c6e535bfed7a",
   "metadata": {},
   "outputs": [
    {
     "data": {
      "text/html": [
       "<div>\n",
       "<style scoped>\n",
       "    .dataframe tbody tr th:only-of-type {\n",
       "        vertical-align: middle;\n",
       "    }\n",
       "\n",
       "    .dataframe tbody tr th {\n",
       "        vertical-align: top;\n",
       "    }\n",
       "\n",
       "    .dataframe thead th {\n",
       "        text-align: right;\n",
       "    }\n",
       "</style>\n",
       "<table border=\"1\" class=\"dataframe\">\n",
       "  <thead>\n",
       "    <tr style=\"text-align: right;\">\n",
       "      <th></th>\n",
       "      <th>imdb_id</th>\n",
       "      <th>movie_title</th>\n",
       "      <th>genre</th>\n",
       "      <th>imdb_rating</th>\n",
       "      <th>metascore</th>\n",
       "      <th>vote_count</th>\n",
       "      <th>release_year</th>\n",
       "      <th>release_month</th>\n",
       "      <th>runtime</th>\n",
       "      <th>actors</th>\n",
       "      <th>director</th>\n",
       "      <th>budget</th>\n",
       "      <th>worldwide_gross</th>\n",
       "      <th>origin_Language</th>\n",
       "      <th>origin_Country</th>\n",
       "    </tr>\n",
       "  </thead>\n",
       "  <tbody>\n",
       "    <tr>\n",
       "      <th>0</th>\n",
       "      <td>tt0172495</td>\n",
       "      <td>Gladiator</td>\n",
       "      <td>action</td>\n",
       "      <td>8.5</td>\n",
       "      <td>67.0</td>\n",
       "      <td>1743461</td>\n",
       "      <td>2000</td>\n",
       "      <td>5.0</td>\n",
       "      <td>9300.0</td>\n",
       "      <td>['Russell Crowe', 'Joaquin Phoenix', 'Connie N...</td>\n",
       "      <td>Ridley Scott</td>\n",
       "      <td>$103,000,000 (estimated)</td>\n",
       "      <td>$465,516,248</td>\n",
       "      <td>English</td>\n",
       "      <td>United States</td>\n",
       "    </tr>\n",
       "    <tr>\n",
       "      <th>1</th>\n",
       "      <td>tt0212346</td>\n",
       "      <td>Miss Congeniality</td>\n",
       "      <td>action</td>\n",
       "      <td>6.3</td>\n",
       "      <td>43.0</td>\n",
       "      <td>238741</td>\n",
       "      <td>2000</td>\n",
       "      <td>12.0</td>\n",
       "      <td>6540.0</td>\n",
       "      <td>['Sandra Bullock', 'Michael Caine', 'Benjamin ...</td>\n",
       "      <td>Donald Petrie</td>\n",
       "      <td>$45,000,000 (estimated)</td>\n",
       "      <td>$212,742,720</td>\n",
       "      <td>English</td>\n",
       "      <td>United States</td>\n",
       "    </tr>\n",
       "    <tr>\n",
       "      <th>2</th>\n",
       "      <td>tt0187393</td>\n",
       "      <td>The Patriot</td>\n",
       "      <td>action</td>\n",
       "      <td>7.2</td>\n",
       "      <td>63.0</td>\n",
       "      <td>302532</td>\n",
       "      <td>2000</td>\n",
       "      <td>6.0</td>\n",
       "      <td>9900.0</td>\n",
       "      <td>['Mel Gibson', 'Heath Ledger', 'Joely Richards...</td>\n",
       "      <td>Roland Emmerich</td>\n",
       "      <td>$110,000,000 (estimated)</td>\n",
       "      <td>$215,294,342</td>\n",
       "      <td>English</td>\n",
       "      <td>Germany</td>\n",
       "    </tr>\n",
       "    <tr>\n",
       "      <th>3</th>\n",
       "      <td>tt0120755</td>\n",
       "      <td>Mission: Impossible II</td>\n",
       "      <td>action</td>\n",
       "      <td>6.1</td>\n",
       "      <td>59.0</td>\n",
       "      <td>389300</td>\n",
       "      <td>2000</td>\n",
       "      <td>5.0</td>\n",
       "      <td>7380.0</td>\n",
       "      <td>['Tom Cruise', 'Dougray Scott', 'Thandiwe Newt...</td>\n",
       "      <td>John Woo</td>\n",
       "      <td>$125,000,000 (estimated)</td>\n",
       "      <td>$546,388,108</td>\n",
       "      <td>English</td>\n",
       "      <td>United States</td>\n",
       "    </tr>\n",
       "    <tr>\n",
       "      <th>4</th>\n",
       "      <td>tt0187078</td>\n",
       "      <td>Gone in Sixty Seconds</td>\n",
       "      <td>action</td>\n",
       "      <td>6.5</td>\n",
       "      <td>35.0</td>\n",
       "      <td>301954</td>\n",
       "      <td>2000</td>\n",
       "      <td>6.0</td>\n",
       "      <td>7080.0</td>\n",
       "      <td>['Nicolas Cage', 'Angelina Jolie', 'Giovanni R...</td>\n",
       "      <td>Dominic Sena</td>\n",
       "      <td>$90,000,000 (estimated)</td>\n",
       "      <td>$237,202,299</td>\n",
       "      <td>English</td>\n",
       "      <td>United States</td>\n",
       "    </tr>\n",
       "  </tbody>\n",
       "</table>\n",
       "</div>"
      ],
      "text/plain": [
       "     imdb_id             movie_title   genre  imdb_rating  metascore  \\\n",
       "0  tt0172495               Gladiator  action          8.5       67.0   \n",
       "1  tt0212346       Miss Congeniality  action          6.3       43.0   \n",
       "2  tt0187393             The Patriot  action          7.2       63.0   \n",
       "3  tt0120755  Mission: Impossible II  action          6.1       59.0   \n",
       "4  tt0187078   Gone in Sixty Seconds  action          6.5       35.0   \n",
       "\n",
       "   vote_count  release_year  release_month  runtime  \\\n",
       "0     1743461          2000            5.0   9300.0   \n",
       "1      238741          2000           12.0   6540.0   \n",
       "2      302532          2000            6.0   9900.0   \n",
       "3      389300          2000            5.0   7380.0   \n",
       "4      301954          2000            6.0   7080.0   \n",
       "\n",
       "                                              actors         director  \\\n",
       "0  ['Russell Crowe', 'Joaquin Phoenix', 'Connie N...     Ridley Scott   \n",
       "1  ['Sandra Bullock', 'Michael Caine', 'Benjamin ...    Donald Petrie   \n",
       "2  ['Mel Gibson', 'Heath Ledger', 'Joely Richards...  Roland Emmerich   \n",
       "3  ['Tom Cruise', 'Dougray Scott', 'Thandiwe Newt...         John Woo   \n",
       "4  ['Nicolas Cage', 'Angelina Jolie', 'Giovanni R...     Dominic Sena   \n",
       "\n",
       "                     budget worldwide_gross origin_Language origin_Country  \n",
       "0  $103,000,000 (estimated)   $465,516,248          English  United States  \n",
       "1   $45,000,000 (estimated)   $212,742,720          English  United States  \n",
       "2  $110,000,000 (estimated)   $215,294,342          English        Germany  \n",
       "3  $125,000,000 (estimated)   $546,388,108          English  United States  \n",
       "4   $90,000,000 (estimated)   $237,202,299          English  United States  "
      ]
     },
     "execution_count": 3,
     "metadata": {},
     "output_type": "execute_result"
    }
   ],
   "source": [
    "dataset.head(5)"
   ]
  },
  {
   "cell_type": "code",
   "execution_count": 4,
   "id": "6f0cce8e-e8c9-4019-a274-7262505e8b73",
   "metadata": {},
   "outputs": [
    {
     "data": {
      "text/plain": [
       "(6666, 15)"
      ]
     },
     "execution_count": 4,
     "metadata": {},
     "output_type": "execute_result"
    }
   ],
   "source": [
    "# Understanding the size of the dataset\n",
    "dataset.shape"
   ]
  },
  {
   "cell_type": "code",
   "execution_count": 5,
   "id": "787a21d3-8e7e-445a-b38d-ae986d8bab7a",
   "metadata": {},
   "outputs": [
    {
     "data": {
      "text/plain": [
       "Index(['imdb_id', 'movie_title', 'genre', 'imdb_rating', 'metascore',\n",
       "       'vote_count', 'release_year', 'release_month', 'runtime', 'actors',\n",
       "       'director', 'budget', 'worldwide_gross', 'origin_Language',\n",
       "       'origin_Country'],\n",
       "      dtype='object')"
      ]
     },
     "execution_count": 5,
     "metadata": {},
     "output_type": "execute_result"
    }
   ],
   "source": [
    "# Understanding the columns of the dataset\n",
    "dataset.columns"
   ]
  },
  {
   "cell_type": "markdown",
   "id": "6039043e-4479-421b-9f81-cfae025a31ce",
   "metadata": {},
   "source": [
    "**Handling Duplicated Data**"
   ]
  },
  {
   "cell_type": "code",
   "execution_count": 6,
   "id": "4d0f9258-cfac-4161-a19e-ccf78f26e8db",
   "metadata": {},
   "outputs": [
    {
     "data": {
      "text/plain": [
       "(0, 15)"
      ]
     },
     "execution_count": 6,
     "metadata": {},
     "output_type": "execute_result"
    }
   ],
   "source": [
    "# Checking for duplicate data\n",
    "\n",
    "duplicates = dataset[dataset.duplicated(subset='imdb_id', keep=False)]\n",
    "duplicates.shape"
   ]
  },
  {
   "cell_type": "markdown",
   "id": "5bcbcaeb-4be6-4c87-a0f4-1ff92db72075",
   "metadata": {},
   "source": [
    "**Handling Null Values**"
   ]
  },
  {
   "cell_type": "code",
   "execution_count": 7,
   "id": "ffa12684-a387-4482-8eee-a7a4c750d6da",
   "metadata": {},
   "outputs": [
    {
     "data": {
      "text/plain": [
       "imdb_id               0\n",
       "movie_title           0\n",
       "genre                 0\n",
       "imdb_rating           0\n",
       "metascore          2485\n",
       "vote_count            0\n",
       "release_year          0\n",
       "release_month       111\n",
       "runtime              65\n",
       "actors                0\n",
       "director            137\n",
       "budget             4483\n",
       "worldwide_gross    2117\n",
       "origin_Language      40\n",
       "origin_Country       19\n",
       "dtype: int64"
      ]
     },
     "execution_count": 7,
     "metadata": {},
     "output_type": "execute_result"
    }
   ],
   "source": [
    "# Check for null values\n",
    "\n",
    "dataset.isnull().sum()"
   ]
  },
  {
   "cell_type": "code",
   "execution_count": 8,
   "id": "6c7b64dc-366c-4c03-af3a-25a36f134be1",
   "metadata": {},
   "outputs": [
    {
     "data": {
      "text/plain": [
       "imdb_id             0.000000\n",
       "movie_title         0.000000\n",
       "genre               0.000000\n",
       "imdb_rating         0.000000\n",
       "metascore          37.278728\n",
       "vote_count          0.000000\n",
       "release_year        0.000000\n",
       "release_month       1.665167\n",
       "runtime             0.975098\n",
       "actors              0.000000\n",
       "director            2.055206\n",
       "budget             67.251725\n",
       "worldwide_gross    31.758176\n",
       "origin_Language     0.600060\n",
       "origin_Country      0.285029\n",
       "dtype: float64"
      ]
     },
     "execution_count": 8,
     "metadata": {},
     "output_type": "execute_result"
    }
   ],
   "source": [
    "# Understandign the missing value percentage of each column\n",
    "\n",
    "dataset.isnull().mean() *100"
   ]
  },
  {
   "cell_type": "markdown",
   "id": "f9695937-6e5a-47f6-8b42-9b89cc2a20b9",
   "metadata": {},
   "source": [
    "- Budeget columnd has more than 50% of missing values, which make it difficult to draw accurate conclusions.\n",
    "  Therefore it is suitable to drop the entire column.\n",
    "\n",
    "- Release month, origin_langauge and origin_country are categorical variables, where we can use the mode to impute the missing values\n",
    "\n",
    "- Director column's missing values can be imputed with Unknown placehodler\n",
    "\n",
    "- Runtime missing values can be imputed with mean value\n",
    "\n",
    "- Worldwide gross has 32% missing values and these can be imputed using the mean.\n",
    "  However, worldwide gross can vastly vary based on the genre of the movie."
   ]
  },
  {
   "cell_type": "code",
   "execution_count": 9,
   "id": "61a6da79-f1c9-4955-8ee6-b7c34da32cd2",
   "metadata": {},
   "outputs": [],
   "source": [
    "# Budget is missing in more than 50% of rows. Since this is too high column is dropped\n",
    "dataset.drop(columns=['budget'], inplace=True)"
   ]
  },
  {
   "cell_type": "code",
   "execution_count": 10,
   "id": "86f95b37-1f76-4b84-b8e0-c5774752b549",
   "metadata": {},
   "outputs": [],
   "source": [
    "# Filling categorical columns with Unknown placeholder\n",
    "dataset['director'].fillna('Unknown', inplace=True)"
   ]
  },
  {
   "cell_type": "code",
   "execution_count": 11,
   "id": "a1777bd2-9c4d-475f-85bf-fee1ba6d40fc",
   "metadata": {},
   "outputs": [],
   "source": [
    "# Fill missing month with the most common month\n",
    "dataset['release_month'].fillna(dataset['release_month'].mode()[0], inplace=True)"
   ]
  },
  {
   "cell_type": "code",
   "execution_count": 12,
   "id": "474f90b0-91fd-4737-a644-474a32a0004d",
   "metadata": {},
   "outputs": [],
   "source": [
    "# Fill missing language and country with most common values\n",
    "dataset['origin_Language'].fillna(dataset['origin_Language'].mode()[0], inplace=True)\n",
    "dataset['origin_Country'].fillna(dataset['origin_Country'].mode()[0], inplace=True)"
   ]
  },
  {
   "cell_type": "code",
   "execution_count": 13,
   "id": "d314ac24-e004-4b34-916d-eced0fea30b4",
   "metadata": {},
   "outputs": [],
   "source": [
    "# Filling runtime with the mean value\n",
    "dataset['runtime'].fillna(dataset['runtime'].median(), inplace=True)"
   ]
  },
  {
   "cell_type": "markdown",
   "id": "f2833bfb-2eb5-46bb-a26c-a244a48758ee",
   "metadata": {},
   "source": [
    "Cleaning Worldwide Gross column's values"
   ]
  },
  {
   "cell_type": "code",
   "execution_count": 14,
   "id": "809f4793-848f-49e8-8652-0da45b97e313",
   "metadata": {},
   "outputs": [],
   "source": [
    "# In this column $ and , should be removed and values should be converted to numeric type\n",
    "\n",
    "# Removing $ prefix and . \n",
    "dataset[\"worldwide_gross\"] = dataset[\"worldwide_gross\"].str.replace(\"$\", \"\")\n",
    "dataset[\"worldwide_gross\"] = dataset[\"worldwide_gross\"].str.replace(\",\", \"\")\n",
    "\n",
    "# Converting to numeric\n",
    "dataset['worldwide_gross'] = pd.to_numeric(dataset['worldwide_gross'], errors='coerce')"
   ]
  },
  {
   "cell_type": "markdown",
   "id": "cc30a83d-227a-4c0c-b3a6-6647b0b188c8",
   "metadata": {},
   "source": [
    "Understanding the behaviours of null values in worldwide gross"
   ]
  },
  {
   "cell_type": "code",
   "execution_count": 15,
   "id": "30f9a7a5-8840-4e4d-b452-45295cc41c3d",
   "metadata": {},
   "outputs": [],
   "source": [
    "gross_null_df = dataset[dataset['worldwide_gross'].isna()]"
   ]
  },
  {
   "cell_type": "code",
   "execution_count": 16,
   "id": "d62797cb-6de6-4aeb-9930-97f34d075531",
   "metadata": {},
   "outputs": [
    {
     "name": "stdout",
     "output_type": "stream",
     "text": [
      "genre\n",
      "musical      30.089750\n",
      "animation    17.997166\n",
      "horror       11.761927\n",
      "family        9.400094\n",
      "fantasy       6.613132\n",
      "crime         5.196032\n",
      "action        4.204062\n",
      "adventure     4.204062\n",
      "mystery       3.967879\n",
      "romance       3.353803\n",
      "comedy        2.834199\n",
      "thriller      0.377893\n",
      "Name: proportion, dtype: float64\n"
     ]
    }
   ],
   "source": [
    "# Genre percentages of missing values of worldwide gross\n",
    "\n",
    "genre_percentages = gross_null_df['genre'].value_counts(normalize=True) * 100\n",
    "\n",
    "# Display the result\n",
    "print(genre_percentages)"
   ]
  },
  {
   "cell_type": "code",
   "execution_count": 23,
   "id": "437153ff-9d60-418d-8262-43b82dfa9781",
   "metadata": {},
   "outputs": [
    {
     "name": "stdout",
     "output_type": "stream",
     "text": [
      "genre\n",
      "action       1.603897e+08\n",
      "adventure    1.437131e+08\n",
      "comedy       6.846427e+07\n",
      "thriller     4.828143e+07\n",
      "horror       3.445797e+07\n",
      "crime        2.988725e+07\n",
      "romance      2.703178e+07\n",
      "mystery      2.485419e+07\n",
      "family       2.231375e+07\n",
      "fantasy      1.939231e+07\n",
      "animation    1.878610e+07\n",
      "musical      7.084917e+06\n",
      "Name: worldwide_gross, dtype: float64\n"
     ]
    }
   ],
   "source": [
    "# Mean gross of each genre\n",
    "gross_non_null_df = dataset[~dataset['worldwide_gross'].isna()]\n",
    "\n",
    "genre_mean_gross = gross_non_null_df.groupby('genre')['worldwide_gross'].mean()\n",
    "genre_mean_gross_sorted = genre_mean_gross.sort_values(ascending=False)\n",
    "print(genre_mean_gross_sorted)"
   ]
  },
  {
   "cell_type": "code",
   "execution_count": 25,
   "id": "6bdba2c8-9376-4ee9-a458-34863963a1be",
   "metadata": {},
   "outputs": [
    {
     "name": "stdout",
     "output_type": "stream",
     "text": [
      "70517737.58452407\n"
     ]
    }
   ],
   "source": [
    "print(gross_non_null_df['worldwide_gross'].mean())"
   ]
  },
  {
   "cell_type": "markdown",
   "id": "3b85b684-b1e8-4913-8dac-b067d2f370fc",
   "metadata": {},
   "source": [
    "We can see from above analysis that mean worldwide gross according to genre is vastly different.\n",
    "We can also see that mean of worldwide gross is also way higher than the mean gross of musical, animation, horror and family columns.\n",
    "These columns have the highest percentages of missing values in worldwide gross column\n",
    "\n",
    "Therefore, I will be imputing worldwide gross column with the mean gross of respective genre"
   ]
  },
  {
   "cell_type": "code",
   "execution_count": 26,
   "id": "f6c8af63-74d5-4466-b35e-5baee5139f0f",
   "metadata": {},
   "outputs": [],
   "source": [
    "# Imputing worldwide_gross with mean of respective genre\n",
    "genre_mean_dict = dataset.groupby('genre')['worldwide_gross'].mean().to_dict()\n",
    "\n",
    "def impute_worldwide_gross(row):\n",
    "    if pd.isna(row['worldwide_gross']):  # Check if worldwide_gross is missing\n",
    "        return genre_mean_dict.get(row['genre'], np.nan)  # Use genre mean or NaN if genre not found\n",
    "    return row['worldwide_gross']  # Return original value if not missing\n",
    "\n",
    "\n",
    "dataset['worldwide_gross'] = dataset.apply(impute_worldwide_gross, axis=1)"
   ]
  },
  {
   "cell_type": "code",
   "execution_count": 27,
   "id": "afa17b5e-51ba-4e00-99b8-8a2606573352",
   "metadata": {},
   "outputs": [
    {
     "data": {
      "text/plain": [
       "imdb_id               0\n",
       "movie_title           0\n",
       "genre                 0\n",
       "imdb_rating           0\n",
       "metascore          2485\n",
       "vote_count            0\n",
       "release_year          0\n",
       "release_month         0\n",
       "runtime               0\n",
       "actors                0\n",
       "director              0\n",
       "worldwide_gross       0\n",
       "origin_Language       0\n",
       "origin_Country        0\n",
       "dtype: int64"
      ]
     },
     "execution_count": 27,
     "metadata": {},
     "output_type": "execute_result"
    }
   ],
   "source": [
    "dataset.isnull().sum()"
   ]
  },
  {
   "cell_type": "code",
   "execution_count": 28,
   "id": "f5f2266e-b8a4-4f1d-8804-647ce260fcce",
   "metadata": {},
   "outputs": [],
   "source": [
    "# Now we have to handle the missing values in metascore"
   ]
  },
  {
   "cell_type": "code",
   "execution_count": 29,
   "id": "5e877320-170d-4085-aa90-e784ed1559fc",
   "metadata": {},
   "outputs": [],
   "source": [
    "meta_score_df = dataset[dataset['metascore'].isna()]"
   ]
  },
  {
   "cell_type": "code",
   "execution_count": 30,
   "id": "e39e485f-3df5-4217-ae62-996d517beb9d",
   "metadata": {},
   "outputs": [
    {
     "name": "stdout",
     "output_type": "stream",
     "text": [
      "genre\n",
      "musical      29.859155\n",
      "animation    23.822938\n",
      "family       10.181087\n",
      "horror        9.778672\n",
      "fantasy       6.599598\n",
      "adventure     4.828974\n",
      "action        3.702213\n",
      "mystery       3.661972\n",
      "crime         3.460765\n",
      "romance       2.535211\n",
      "comedy        1.368209\n",
      "thriller      0.201207\n",
      "Name: proportion, dtype: float64\n"
     ]
    }
   ],
   "source": [
    "# Genre percentages of the missing metascore rows\n",
    "\n",
    "genre_percentages = meta_score_df['genre'].value_counts(normalize=True) * 100\n",
    "print(genre_percentages)"
   ]
  },
  {
   "cell_type": "code",
   "execution_count": 32,
   "id": "6d2d9d2a-0c32-43e1-91b3-7ca2f83d0bfa",
   "metadata": {},
   "outputs": [
    {
     "name": "stdout",
     "output_type": "stream",
     "text": [
      "origin_Country\n",
      "United States                     29.657948\n",
      "Japan                             12.354125\n",
      "India                             12.072435\n",
      "United Kingdom                     6.961771\n",
      "Germany                            4.104628\n",
      "                                    ...    \n",
      "Colombia                           0.040241\n",
      "Israel                             0.040241\n",
      "Syria                              0.040241\n",
      "Federal Republic of Yugoslavia     0.040241\n",
      "Iraq                               0.040241\n",
      "Name: proportion, Length: 74, dtype: float64\n"
     ]
    }
   ],
   "source": [
    "country_percentages = meta_score_df['origin_Country'].value_counts(normalize=True) * 100\n",
    "\n",
    "# Display the result\n",
    "print(country_percentages)"
   ]
  },
  {
   "cell_type": "code",
   "execution_count": 35,
   "id": "1a6fb2ef-e32d-4ec0-899c-ee27ab330eaf",
   "metadata": {},
   "outputs": [
    {
     "name": "stdout",
     "output_type": "stream",
     "text": [
      "origin_Country\n",
      "United States            63.764650\n",
      "United Kingdom           12.006697\n",
      "France                    4.066013\n",
      "Canada                    3.491988\n",
      "Germany                   2.965798\n",
      "Japan                     2.224348\n",
      "Australia                 1.411146\n",
      "Spain                     1.100215\n",
      "South Korea               0.837120\n",
      "Ireland                   0.837120\n",
      "China                     0.741449\n",
      "Hong Kong                 0.550108\n",
      "Italy                     0.526190\n",
      "India                     0.406601\n",
      "New Zealand               0.382684\n",
      "Sweden                    0.382684\n",
      "Czech Republic            0.358766\n",
      "Denmark                   0.358766\n",
      "Mexico                    0.358766\n",
      "Belgium                   0.310930\n",
      "Russia                    0.239177\n",
      "Norway                    0.215260\n",
      "Argentina                 0.215260\n",
      "Switzerland               0.191342\n",
      "Brazil                    0.191342\n",
      "Netherlands               0.167424\n",
      "United Arab Emirates      0.143506\n",
      "South Africa              0.143506\n",
      "Hungary                   0.119589\n",
      "Thailand                  0.119589\n",
      "Chile                     0.095671\n",
      "Finland                   0.095671\n",
      "Poland                    0.095671\n",
      "Iran                      0.071753\n",
      "Israel                    0.071753\n",
      "Taiwan                    0.071753\n",
      "Portugal                  0.071753\n",
      "Indonesia                 0.071753\n",
      "Austria                   0.047835\n",
      "Turkey                    0.047835\n",
      "Serbia                    0.023918\n",
      "Bahamas                   0.023918\n",
      "Philippines               0.023918\n",
      "Singapore                 0.023918\n",
      "Latvia                    0.023918\n",
      "Georgia                   0.023918\n",
      "Romania                   0.023918\n",
      "Colombia                  0.023918\n",
      "Iceland                   0.023918\n",
      "Morocco                   0.023918\n",
      "Qatar                     0.023918\n",
      "Malaysia                  0.023918\n",
      "Greece                    0.023918\n",
      "Luxembourg                0.023918\n",
      "Serbia and Montenegro     0.023918\n",
      "Tunisia                   0.023918\n",
      "Senegal                   0.023918\n",
      "Bhutan                    0.023918\n",
      "Name: proportion, dtype: float64\n"
     ]
    }
   ],
   "source": [
    "non_null_meta_score_df = dataset[~dataset['metascore'].isna()]\n",
    "\n",
    "non_null_country_percentages = non_null_meta_score_df['origin_Country'].value_counts(normalize=True) * 100\n",
    "\n",
    "# Display the result\n",
    "print(non_null_country_percentages)"
   ]
  },
  {
   "cell_type": "markdown",
   "id": "b1a7f67f-5609-4695-be47-df3698008340",
   "metadata": {},
   "source": [
    "We can see from above analysis that 65% of missing metascore values are from countries outside of the USA and UK\n",
    "However, in avalibale metascores 76% of values are from the UK and USA.\n",
    "Which means that in countries outside of UK and USA, less people have rated the movies.\n",
    "Moreover, similar insights can be taken from the IMDB ratings where there are no null values.\n",
    "Therefore, I will be dropping the metascore column"
   ]
  },
  {
   "cell_type": "code",
   "execution_count": 36,
   "id": "ed63d402-a781-4243-8a21-8b9f36a859bf",
   "metadata": {},
   "outputs": [],
   "source": [
    "dataset.drop(columns=['metascore'], inplace=True)"
   ]
  },
  {
   "cell_type": "markdown",
   "id": "13d2dece-d975-40d4-ba6a-0e5a2188e91d",
   "metadata": {},
   "source": [
    "**Handling Data Types**"
   ]
  },
  {
   "cell_type": "code",
   "execution_count": 37,
   "id": "ad183e3c-d35d-4a6e-b95a-7253dbb3d616",
   "metadata": {},
   "outputs": [],
   "source": [
    "# Convert worldwide_gross to integers\n",
    "dataset['worldwide_gross'] = dataset['worldwide_gross'].astype(int)\n",
    "# Convert month into int type\n",
    "dataset['release_month'] = dataset['release_month'].astype(int)\n",
    "# Convert runtime from seconds into minutes\n",
    "dataset['runtime'] = dataset['runtime']/60\n",
    "# Convert runtime into int\n",
    "dataset['runtime'] = dataset['runtime'].astype(int)"
   ]
  },
  {
   "cell_type": "code",
   "execution_count": 38,
   "id": "642cdfcd-b496-44f2-a20a-fcfba37a1e6d",
   "metadata": {},
   "outputs": [
    {
     "data": {
      "text/html": [
       "<div>\n",
       "<style scoped>\n",
       "    .dataframe tbody tr th:only-of-type {\n",
       "        vertical-align: middle;\n",
       "    }\n",
       "\n",
       "    .dataframe tbody tr th {\n",
       "        vertical-align: top;\n",
       "    }\n",
       "\n",
       "    .dataframe thead th {\n",
       "        text-align: right;\n",
       "    }\n",
       "</style>\n",
       "<table border=\"1\" class=\"dataframe\">\n",
       "  <thead>\n",
       "    <tr style=\"text-align: right;\">\n",
       "      <th></th>\n",
       "      <th>imdb_id</th>\n",
       "      <th>movie_title</th>\n",
       "      <th>genre</th>\n",
       "      <th>imdb_rating</th>\n",
       "      <th>vote_count</th>\n",
       "      <th>release_year</th>\n",
       "      <th>release_month</th>\n",
       "      <th>runtime</th>\n",
       "      <th>actors</th>\n",
       "      <th>director</th>\n",
       "      <th>worldwide_gross</th>\n",
       "      <th>origin_Language</th>\n",
       "      <th>origin_Country</th>\n",
       "    </tr>\n",
       "  </thead>\n",
       "  <tbody>\n",
       "    <tr>\n",
       "      <th>0</th>\n",
       "      <td>tt0172495</td>\n",
       "      <td>Gladiator</td>\n",
       "      <td>action</td>\n",
       "      <td>8.5</td>\n",
       "      <td>1743461</td>\n",
       "      <td>2000</td>\n",
       "      <td>5</td>\n",
       "      <td>155</td>\n",
       "      <td>['Russell Crowe', 'Joaquin Phoenix', 'Connie N...</td>\n",
       "      <td>Ridley Scott</td>\n",
       "      <td>465516248</td>\n",
       "      <td>English</td>\n",
       "      <td>United States</td>\n",
       "    </tr>\n",
       "    <tr>\n",
       "      <th>1</th>\n",
       "      <td>tt0212346</td>\n",
       "      <td>Miss Congeniality</td>\n",
       "      <td>action</td>\n",
       "      <td>6.3</td>\n",
       "      <td>238741</td>\n",
       "      <td>2000</td>\n",
       "      <td>12</td>\n",
       "      <td>109</td>\n",
       "      <td>['Sandra Bullock', 'Michael Caine', 'Benjamin ...</td>\n",
       "      <td>Donald Petrie</td>\n",
       "      <td>212742720</td>\n",
       "      <td>English</td>\n",
       "      <td>United States</td>\n",
       "    </tr>\n",
       "    <tr>\n",
       "      <th>2</th>\n",
       "      <td>tt0187393</td>\n",
       "      <td>The Patriot</td>\n",
       "      <td>action</td>\n",
       "      <td>7.2</td>\n",
       "      <td>302532</td>\n",
       "      <td>2000</td>\n",
       "      <td>6</td>\n",
       "      <td>165</td>\n",
       "      <td>['Mel Gibson', 'Heath Ledger', 'Joely Richards...</td>\n",
       "      <td>Roland Emmerich</td>\n",
       "      <td>215294342</td>\n",
       "      <td>English</td>\n",
       "      <td>Germany</td>\n",
       "    </tr>\n",
       "    <tr>\n",
       "      <th>3</th>\n",
       "      <td>tt0120755</td>\n",
       "      <td>Mission: Impossible II</td>\n",
       "      <td>action</td>\n",
       "      <td>6.1</td>\n",
       "      <td>389300</td>\n",
       "      <td>2000</td>\n",
       "      <td>5</td>\n",
       "      <td>123</td>\n",
       "      <td>['Tom Cruise', 'Dougray Scott', 'Thandiwe Newt...</td>\n",
       "      <td>John Woo</td>\n",
       "      <td>546388108</td>\n",
       "      <td>English</td>\n",
       "      <td>United States</td>\n",
       "    </tr>\n",
       "    <tr>\n",
       "      <th>4</th>\n",
       "      <td>tt0187078</td>\n",
       "      <td>Gone in Sixty Seconds</td>\n",
       "      <td>action</td>\n",
       "      <td>6.5</td>\n",
       "      <td>301954</td>\n",
       "      <td>2000</td>\n",
       "      <td>6</td>\n",
       "      <td>118</td>\n",
       "      <td>['Nicolas Cage', 'Angelina Jolie', 'Giovanni R...</td>\n",
       "      <td>Dominic Sena</td>\n",
       "      <td>237202299</td>\n",
       "      <td>English</td>\n",
       "      <td>United States</td>\n",
       "    </tr>\n",
       "  </tbody>\n",
       "</table>\n",
       "</div>"
      ],
      "text/plain": [
       "     imdb_id             movie_title   genre  imdb_rating  vote_count  \\\n",
       "0  tt0172495               Gladiator  action          8.5     1743461   \n",
       "1  tt0212346       Miss Congeniality  action          6.3      238741   \n",
       "2  tt0187393             The Patriot  action          7.2      302532   \n",
       "3  tt0120755  Mission: Impossible II  action          6.1      389300   \n",
       "4  tt0187078   Gone in Sixty Seconds  action          6.5      301954   \n",
       "\n",
       "   release_year  release_month  runtime  \\\n",
       "0          2000              5      155   \n",
       "1          2000             12      109   \n",
       "2          2000              6      165   \n",
       "3          2000              5      123   \n",
       "4          2000              6      118   \n",
       "\n",
       "                                              actors         director  \\\n",
       "0  ['Russell Crowe', 'Joaquin Phoenix', 'Connie N...     Ridley Scott   \n",
       "1  ['Sandra Bullock', 'Michael Caine', 'Benjamin ...    Donald Petrie   \n",
       "2  ['Mel Gibson', 'Heath Ledger', 'Joely Richards...  Roland Emmerich   \n",
       "3  ['Tom Cruise', 'Dougray Scott', 'Thandiwe Newt...         John Woo   \n",
       "4  ['Nicolas Cage', 'Angelina Jolie', 'Giovanni R...     Dominic Sena   \n",
       "\n",
       "   worldwide_gross origin_Language origin_Country  \n",
       "0        465516248         English  United States  \n",
       "1        212742720         English  United States  \n",
       "2        215294342         English        Germany  \n",
       "3        546388108         English  United States  \n",
       "4        237202299         English  United States  "
      ]
     },
     "execution_count": 38,
     "metadata": {},
     "output_type": "execute_result"
    }
   ],
   "source": [
    "dataset.head(5)"
   ]
  },
  {
   "cell_type": "code",
   "execution_count": 39,
   "id": "84adf13d-5b58-4c28-8816-633683e95857",
   "metadata": {},
   "outputs": [],
   "source": [
    "# Saving the preprocessed dataset\n",
    "\n",
    "dataset.to_csv(\"preprocessed_dataset.csv\", index = False)"
   ]
  },
  {
   "cell_type": "code",
   "execution_count": null,
   "id": "99e8df06-c682-4144-b503-f882f0479420",
   "metadata": {},
   "outputs": [],
   "source": []
  }
 ],
 "metadata": {
  "kernelspec": {
   "display_name": "Python 3 (ipykernel)",
   "language": "python",
   "name": "python3"
  },
  "language_info": {
   "codemirror_mode": {
    "name": "ipython",
    "version": 3
   },
   "file_extension": ".py",
   "mimetype": "text/x-python",
   "name": "python",
   "nbconvert_exporter": "python",
   "pygments_lexer": "ipython3",
   "version": "3.11.7"
  }
 },
 "nbformat": 4,
 "nbformat_minor": 5
}
